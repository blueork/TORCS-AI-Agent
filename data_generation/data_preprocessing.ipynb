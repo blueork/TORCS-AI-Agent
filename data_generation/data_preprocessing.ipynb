{
 "cells": [
  {
   "cell_type": "code",
   "execution_count": 1,
   "id": "1d5651bd",
   "metadata": {},
   "outputs": [
    {
     "name": "stdout",
     "output_type": "stream",
     "text": [
      "Hello World\n"
     ]
    }
   ],
   "source": [
    "print(\"Hello World\")"
   ]
  },
  {
   "cell_type": "code",
   "execution_count": 6,
   "id": "238752e6",
   "metadata": {},
   "outputs": [],
   "source": [
    "import pandas as pd\n",
    "import numpy as np\n",
    "from sklearn.model_selection import train_test_split\n",
    "import glob\n",
    "import os"
   ]
  },
  {
   "cell_type": "code",
   "execution_count": 23,
   "id": "f578a231",
   "metadata": {},
   "outputs": [
    {
     "name": "stdout",
     "output_type": "stream",
     "text": [
      "Combined data shape: (309220, 80)\n"
     ]
    }
   ],
   "source": [
    "# Step 1: Combine CSV files\n",
    "data_dir = \"./data/dirt-2/\"  # Update with your directory\n",
    "csv_files = glob.glob(os.path.join(data_dir, \"*.csv\"))\n",
    "df_list = [pd.read_csv(file) for file in csv_files]\n",
    "data = pd.concat(df_list, ignore_index=True)\n",
    "print(f\"Combined data shape: {data.shape}\")"
   ]
  },
  {
   "cell_type": "code",
   "execution_count": 24,
   "id": "9e78474c",
   "metadata": {},
   "outputs": [
    {
     "name": "stdout",
     "output_type": "stream",
     "text": [
      "<class 'pandas.core.frame.DataFrame'>\n",
      "RangeIndex: 309220 entries, 0 to 309219\n",
      "Data columns (total 80 columns):\n",
      " #   Column                Non-Null Count   Dtype  \n",
      "---  ------                --------------   -----  \n",
      " 0   Angle                 288986 non-null  float64\n",
      " 1    CurrentLapTime       309220 non-null  float64\n",
      " 2    Damage               309220 non-null  int64  \n",
      " 3    DistanceFromStart    309220 non-null  float64\n",
      " 4    DistanceCovered      309220 non-null  float64\n",
      " 5    FuelLevel            309220 non-null  float64\n",
      " 6    gear_drop            309220 non-null  int64  \n",
      " 7    LastLapTime          309220 non-null  float64\n",
      " 8    Opponent_1           309220 non-null  float64\n",
      " 9   Opponent_2            309220 non-null  float64\n",
      " 10  Opponent_3            309220 non-null  float64\n",
      " 11  Opponent_4            309220 non-null  float64\n",
      " 12  Opponent_5            309220 non-null  float64\n",
      " 13  Opponent_6            309220 non-null  float64\n",
      " 14  Opponent_7            309220 non-null  float64\n",
      " 15  Opponent_8            309220 non-null  float64\n",
      " 16  Opponent_9            309220 non-null  float64\n",
      " 17  Opponent_10           309220 non-null  float64\n",
      " 18  Opponent_11           309220 non-null  float64\n",
      " 19  Opponent_12           309220 non-null  float64\n",
      " 20  Opponent_13           309220 non-null  float64\n",
      " 21  Opponent_14           309220 non-null  float64\n",
      " 22  Opponent_15           309220 non-null  float64\n",
      " 23  Opponent_16           309220 non-null  float64\n",
      " 24  Opponent_17           309220 non-null  float64\n",
      " 25  Opponent_18           309220 non-null  float64\n",
      " 26  Opponent_19           309220 non-null  float64\n",
      " 27  Opponent_20           309220 non-null  float64\n",
      " 28  Opponent_21           309220 non-null  float64\n",
      " 29  Opponent_22           309220 non-null  float64\n",
      " 30  Opponent_23           309220 non-null  float64\n",
      " 31  Opponent_24           309220 non-null  float64\n",
      " 32  Opponent_25           309220 non-null  float64\n",
      " 33  Opponent_26           309220 non-null  float64\n",
      " 34  Opponent_27           309220 non-null  float64\n",
      " 35  Opponent_28           309220 non-null  float64\n",
      " 36  Opponent_29           309220 non-null  float64\n",
      " 37  Opponent_30           309220 non-null  float64\n",
      " 38  Opponent_31           309220 non-null  float64\n",
      " 39  Opponent_32           309220 non-null  float64\n",
      " 40  Opponent_33           309220 non-null  float64\n",
      " 41  Opponent_34           309220 non-null  float64\n",
      " 42  Opponent_35           309220 non-null  float64\n",
      " 43  Opponent_36           309220 non-null  float64\n",
      " 44  RacePosition          309220 non-null  int64  \n",
      " 45   RPM                  309220 non-null  float64\n",
      " 46   SpeedX               309220 non-null  float64\n",
      " 47   SpeedY               309220 non-null  float64\n",
      " 48   SpeedZ               309220 non-null  float64\n",
      " 49   Track_1              309220 non-null  float64\n",
      " 50  Track_2               309220 non-null  float64\n",
      " 51  Track_3               309220 non-null  float64\n",
      " 52  Track_4               309220 non-null  float64\n",
      " 53  Track_5               309220 non-null  float64\n",
      " 54  Track_6               309220 non-null  float64\n",
      " 55  Track_7               309220 non-null  float64\n",
      " 56  Track_8               309220 non-null  float64\n",
      " 57  Track_9               309220 non-null  float64\n",
      " 58  Track_10              309220 non-null  float64\n",
      " 59  Track_11              309220 non-null  float64\n",
      " 60  Track_12              309220 non-null  float64\n",
      " 61  Track_13              309220 non-null  float64\n",
      " 62  Track_14              309220 non-null  float64\n",
      " 63  Track_15              309220 non-null  float64\n",
      " 64  Track_16              309220 non-null  float64\n",
      " 65  Track_17              309220 non-null  float64\n",
      " 66  Track_18              309220 non-null  float64\n",
      " 67  Track_19              309220 non-null  float64\n",
      " 68  TrackPosition         309220 non-null  float64\n",
      " 69   WheelSpinVelocity_1  309220 non-null  float64\n",
      " 70  WheelSpinVelocity_2   309220 non-null  float64\n",
      " 71  WheelSpinVelocity_3   309220 non-null  float64\n",
      " 72  WheelSpinVelocity_4   309220 non-null  float64\n",
      " 73  Z                     309220 non-null  float64\n",
      " 74   Acceleration         309220 non-null  float64\n",
      " 75  Braking               309220 non-null  float64\n",
      " 76  Clutch                309220 non-null  float64\n",
      " 77  Gear                  309220 non-null  int64  \n",
      " 78  Steering              309220 non-null  float64\n",
      " 79  gear_drop             20234 non-null   float64\n",
      "dtypes: float64(76), int64(4)\n",
      "memory usage: 188.7 MB\n"
     ]
    }
   ],
   "source": [
    "data.info()"
   ]
  },
  {
   "cell_type": "code",
   "execution_count": 25,
   "id": "49edc43a",
   "metadata": {},
   "outputs": [
    {
     "name": "stdout",
     "output_type": "stream",
     "text": [
      "Dropped columns: [' gear_drop', 'gear_drop']\n",
      "Shape after dropping drop_gear columns: (309220, 78)\n"
     ]
    }
   ],
   "source": [
    "# Step 2: Drop incorrect 'drop_gear' columns\n",
    "drop_gear_cols = [col for col in data.columns if 'gear_drop' in col.lower()]  # Catches 'drop_gear', 'drop_gear_1', etc.\n",
    "if drop_gear_cols:\n",
    "    data = data.drop(columns=drop_gear_cols)\n",
    "    print(f\"Dropped columns: {drop_gear_cols}\")\n",
    "else:\n",
    "    print(\"No 'drop_gear' columns found.\")\n",
    "print(f\"Shape after dropping drop_gear columns: {data.shape}\")\n"
   ]
  },
  {
   "cell_type": "code",
   "execution_count": 26,
   "id": "9b69fc8b",
   "metadata": {},
   "outputs": [
    {
     "name": "stdout",
     "output_type": "stream",
     "text": [
      "Shape after dropping opponent columns: (309220, 43)\n"
     ]
    }
   ],
   "source": [
    "# Step 3: Drop opponent-related columns\n",
    "opponent_cols = [col for col in data.columns if col.startswith('Opponent_')]  # Adjust based on column names\n",
    "data = data.drop(columns=opponent_cols)\n",
    "print(f\"Shape after dropping opponent columns: {data.shape}\")\n"
   ]
  },
  {
   "cell_type": "code",
   "execution_count": 27,
   "id": "2155b447",
   "metadata": {},
   "outputs": [
    {
     "name": "stdout",
     "output_type": "stream",
     "text": [
      "Null values per column:\n",
      " Angle    20234\n",
      "dtype: int64\n",
      "Shape after handling nulls: (288986, 43)\n"
     ]
    }
   ],
   "source": [
    "# Step 4: Check and handle null values\n",
    "null_counts = data.isnull().sum()\n",
    "print(\"Null values per column:\\n\", null_counts[null_counts > 0])\n",
    "# Drop rows with nulls (or impute if preferred)\n",
    "data = data.dropna()\n",
    "print(f\"Shape after handling nulls: {data.shape}\")\n"
   ]
  },
  {
   "cell_type": "code",
   "execution_count": 33,
   "id": "05e2021d",
   "metadata": {},
   "outputs": [
    {
     "name": "stdout",
     "output_type": "stream",
     "text": [
      "Feature stats:\n",
      "                              mean          std\n",
      "Angle                   -0.000640     0.282541\n",
      " CurrentLapTime         49.227567    29.028026\n",
      " Damage               2823.975051  2339.246312\n",
      " DistanceFromStart     801.164121   455.878970\n",
      " DistanceCovered      2891.367966  1700.453458\n",
      " FuelLevel              53.366001     0.905742\n",
      " LastLapTime            70.338981    45.912840\n",
      " Opponent_1            175.131463    58.672077\n",
      "RacePosition             2.162219     1.595496\n",
      " RPM                  5476.455812  1541.549847\n",
      " SpeedX                 59.128886    28.477126\n",
      " SpeedY                 -0.025914     5.588287\n",
      " SpeedZ                 -0.013730     4.671972\n",
      " Track_1                 5.067960     3.448218\n",
      "Track_2                  5.835095     5.886011\n",
      "Track_3                  7.683733     6.994096\n",
      "Track_4                 11.181911    11.890595\n",
      "Track_5                 16.910797    15.476984\n",
      "Track_6                 19.790101    16.120858\n",
      "Track_7                 24.688684    18.896225\n",
      "Track_8                 40.596171    35.529450\n",
      "Track_9                 47.887810    44.782480\n",
      "Track_10                47.611768    43.855592\n",
      "Track_11                45.541248    43.067301\n",
      "Track_12                31.996369    23.329645\n",
      "Track_13                22.026671    14.644430\n",
      "Track_14                17.525339    12.798778\n",
      "Track_15                14.637577    11.941204\n",
      "Track_16                 9.670707     9.178633\n",
      "Track_17                 7.518617     7.217291\n",
      "Track_18                 5.984177     6.187569\n",
      "Track_19                 5.229534     3.821703\n",
      "TrackPosition            0.020417     0.490108\n",
      " WheelSpinVelocity_1    52.919771    25.914326\n",
      "WheelSpinVelocity_2     52.689198    25.977178\n",
      "WheelSpinVelocity_3     53.581479    25.920878\n",
      "WheelSpinVelocity_4     53.314547    25.964968\n",
      "Z                        0.391645     0.330154\n",
      " Acceleration            0.380070     0.386330\n",
      "Label stats:\n",
      "               mean       std\n",
      "Braking   0.040316  0.153326\n",
      "Steering  0.032628  0.351732\n"
     ]
    }
   ],
   "source": [
    "# Step 5: Compute mean and standard deviation, normalize features\n",
    "# Separate features (sensors) and labels (actuators)\n",
    "sensor_cols = [col for col in data.columns if col not in ['Acceleration', 'Braking', 'Clutch', 'Gear', 'Steering']]\n",
    "actuator_cols = [col for col in data.columns if col in ['Acceleration', 'Braking', 'Steering']]\n",
    "features = data[sensor_cols]\n",
    "all_actuator_cols = [col for col in data.columns if col in ['Acceleration', 'Braking', 'Clutch', 'Gear', 'Steering']]\n",
    "labels = data[all_actuator_cols]\n",
    "\n",
    "# Calculate mean and std for sensors and continuous actuators\n",
    "feature_stats = features.describe().loc[['mean', 'std']].T\n",
    "label_stats = labels[actuator_cols].describe().loc[['mean', 'std']].T\n",
    "print(\"Feature stats:\\n\", feature_stats)\n",
    "print(\"Label stats:\\n\", label_stats)"
   ]
  },
  {
   "cell_type": "code",
   "execution_count": 34,
   "id": "f90beb16",
   "metadata": {},
   "outputs": [
    {
     "name": "stdout",
     "output_type": "stream",
     "text": [
      "Statistics for continuous features and actuators:\n",
      "                              mean          std          min          max\n",
      "Angle                   -0.000640     0.282541    -3.129000      3.13044\n",
      " CurrentLapTime         49.227567    29.028026    -0.982000    115.03200\n",
      " Damage               2823.975051  2339.246312     0.000000   8438.00000\n",
      " DistanceFromStart     801.164121   455.878970     0.006884   1760.94000\n",
      " DistanceCovered      2891.367966  1700.453458     0.000000   6563.45000\n",
      " FuelLevel              53.366001     0.905742    51.817200     55.00000\n",
      " LastLapTime            70.338981    45.912840     0.000000    107.36000\n",
      " Opponent_1            175.131463    58.672077     3.470930    200.00000\n",
      "RacePosition             2.162219     1.595496     1.000000      7.00000\n",
      " RPM                  5476.455812  1541.549847  1151.920000  10015.40000\n",
      " SpeedX                 59.128886    28.477126   -78.060800    122.20200\n",
      " SpeedY                 -0.025914     5.588287   -76.869300     88.68200\n",
      " SpeedZ                 -0.013730     4.671972   -41.430000     29.67470\n",
      " Track_1                 5.067960     3.448218    -1.000000    177.67100\n",
      "Track_2                  5.835095     5.886011    -1.000000    179.96700\n",
      "Track_3                  7.683733     6.994096    -1.000000    196.31000\n",
      "Track_4                 11.181911    11.890595    -1.000000    200.00000\n",
      "Track_5                 16.910797    15.476984    -1.000000    200.00000\n",
      "Track_6                 19.790101    16.120858    -1.000000    200.00000\n",
      "Track_7                 24.688684    18.896225    -1.000000    200.00000\n",
      "Track_8                 40.596171    35.529450    -1.000000    200.00000\n",
      "Track_9                 47.887810    44.782480    -1.000000    200.00000\n",
      "Track_10                47.611768    43.855592    -1.000000    200.00000\n",
      "Track_11                45.541248    43.067301    -1.000000    200.00000\n",
      "Track_12                31.996369    23.329645    -1.000000    200.00000\n",
      "Track_13                22.026671    14.644430    -1.000000    189.95700\n",
      "Track_14                17.525339    12.798778    -1.000000    178.62300\n",
      "Track_15                14.637577    11.941204    -1.000000    182.24100\n",
      "Track_16                 9.670707     9.178633    -1.000000    200.00000\n",
      "Track_17                 7.518617     7.217291    -1.000000    200.00000\n",
      "Track_18                 5.984177     6.187569    -1.000000    200.00000\n",
      "Track_19                 5.229534     3.821703    -1.000000    200.00000\n",
      "TrackPosition            0.020417     0.490108    -1.591100      1.60194\n",
      " WheelSpinVelocity_1    52.919771    25.914326   -47.188200    110.71300\n",
      "WheelSpinVelocity_2     52.689198    25.977178   -50.107100    110.24400\n",
      "WheelSpinVelocity_3     53.581479    25.920878   -81.889300    110.80600\n",
      "WheelSpinVelocity_4     53.314547    25.964968   -85.938000    110.20500\n",
      "Z                        0.391645     0.330154     0.215737      4.07852\n",
      " Acceleration            0.380070     0.386330     0.000000      1.00000\n",
      "Braking                  0.040316     0.153326     0.000000      1.00000\n",
      "Steering                 0.032628     0.351732    -1.000000      1.00000\n",
      "Gear value counts:\n",
      " Gear\n",
      " 1    113206\n",
      " 3     98666\n",
      " 2     76526\n",
      "-1       588\n",
      "Name: count, dtype: int64\n",
      "Clutch value counts:\n",
      " Clutch\n",
      "0.0    286847\n",
      "0.5      2139\n",
      "Name: count, dtype: int64\n"
     ]
    }
   ],
   "source": [
    "# Step 6: Check statistics and distributions\n",
    "# Continuous features and actuators\n",
    "continuous_cols = sensor_cols + actuator_cols\n",
    "stats = data[continuous_cols].describe().loc[['mean', 'std', 'min', 'max']].T\n",
    "print(\"Statistics for continuous features and actuators:\\n\", stats)\n",
    "# Discrete outputs (Gear, Clutch)\n",
    "print(\"Gear value counts:\\n\", data['Gear'].value_counts())\n",
    "print(\"Clutch value counts:\\n\", data['Clutch'].value_counts())"
   ]
  },
  {
   "cell_type": "code",
   "execution_count": 35,
   "id": "250c3f02",
   "metadata": {},
   "outputs": [
    {
     "name": "stdout",
     "output_type": "stream",
     "text": [
      "Shape after dropping constant columns: (288986, 39)\n"
     ]
    }
   ],
   "source": [
    "# Step 7: Check for constant columns\n",
    "constant_cols = [col for col in sensor_cols if data[col].std() == 0]\n",
    "if constant_cols:\n",
    "    print(f\"Constant columns to drop: {constant_cols}\")\n",
    "    features = features.drop(columns=constant_cols)\n",
    "    sensor_cols = [col for col in sensor_cols if col not in constant_cols]\n",
    "print(f\"Shape after dropping constant columns: {features.shape}\")"
   ]
  },
  {
   "cell_type": "code",
   "execution_count": 36,
   "id": "7f7a60bc",
   "metadata": {},
   "outputs": [],
   "source": [
    "# Step 8: Normalize continuous features and actuators\n",
    "features_normalized = features.copy()\n",
    "labels_normalized = labels.copy()\n",
    "for col in sensor_cols:\n",
    "    features_normalized[col] = (features[col] - features[col].mean()) / features[col].std()\n",
    "for col in actuator_cols:\n",
    "    labels_normalized[col] = (labels[col] - labels[col].mean()) / labels[col].std()\n",
    "# Gear and Clutch remain unnormalized\n",
    "data_normalized = pd.concat([features_normalized, labels_normalized], axis=1)"
   ]
  },
  {
   "cell_type": "code",
   "execution_count": 37,
   "id": "db6781c0",
   "metadata": {},
   "outputs": [
    {
     "name": "stdout",
     "output_type": "stream",
     "text": [
      "Train shape: (231188, 43), Validation shape: (28899, 43), Test shape: (28899, 43)\n",
      "./data/dirt-2/Preprocessed data saved.\n"
     ]
    }
   ],
   "source": [
    "# Step 10: Split into train/validation/test\n",
    "train_data, temp_data = train_test_split(data_normalized, test_size=0.2, random_state=42)\n",
    "val_data, test_data = train_test_split(temp_data, test_size=0.5, random_state=42)\n",
    "print(f\"Train shape: {train_data.shape}, Validation shape: {val_data.shape}, Test shape: {test_data.shape}\")\n",
    "\n",
    "# Step 11: Save preprocessed data\n",
    "train_data.to_csv(\"./data/dirt-2/train_data.csv\", index=False)\n",
    "val_data.to_csv(\"./data/dirt-2/val_data.csv\", index=False)\n",
    "test_data.to_csv(\"./data/dirt-2/test_data.csv\", index=False)\n",
    "print(\"./data/dirt-2/Preprocessed data saved.\")\n"
   ]
  },
  {
   "cell_type": "code",
   "execution_count": null,
   "id": "084e096d",
   "metadata": {},
   "outputs": [
    {
     "name": "stdout",
     "output_type": "stream",
     "text": [
      "Combined data shape: (309220, 80)\n"
     ]
    },
    {
     "ename": "KeyError",
     "evalue": "\"['gear_drop'] not found in axis\"",
     "output_type": "error",
     "traceback": [
      "\u001b[1;31m---------------------------------------------------------------------------\u001b[0m",
      "\u001b[1;31mKeyError\u001b[0m                                  Traceback (most recent call last)",
      "Cell \u001b[1;32mIn[7], line 11\u001b[0m\n\u001b[0;32m      9\u001b[0m opponent_cols \u001b[38;5;241m=\u001b[39m [col \u001b[38;5;28;01mfor\u001b[39;00m col \u001b[38;5;129;01min\u001b[39;00m data\u001b[38;5;241m.\u001b[39mcolumns \u001b[38;5;28;01mif\u001b[39;00m col\u001b[38;5;241m.\u001b[39mstartswith(\u001b[38;5;124m'\u001b[39m\u001b[38;5;124mOpponent_\u001b[39m\u001b[38;5;124m'\u001b[39m)]  \u001b[38;5;66;03m# Adjust based on column names\u001b[39;00m\n\u001b[0;32m     10\u001b[0m data \u001b[38;5;241m=\u001b[39m data\u001b[38;5;241m.\u001b[39mdrop(columns\u001b[38;5;241m=\u001b[39mopponent_cols)\n\u001b[1;32m---> 11\u001b[0m data \u001b[38;5;241m=\u001b[39m \u001b[43mdata\u001b[49m\u001b[38;5;241;43m.\u001b[39;49m\u001b[43mdrop\u001b[49m\u001b[43m(\u001b[49m\u001b[38;5;124;43m'\u001b[39;49m\u001b[38;5;124;43mgear_drop\u001b[39;49m\u001b[38;5;124;43m'\u001b[39;49m\u001b[43m)\u001b[49m\n\u001b[0;32m     12\u001b[0m \u001b[38;5;28mprint\u001b[39m(\u001b[38;5;124mf\u001b[39m\u001b[38;5;124m\"\u001b[39m\u001b[38;5;124mShape after dropping opponent columns: \u001b[39m\u001b[38;5;132;01m{\u001b[39;00mdata\u001b[38;5;241m.\u001b[39mshape\u001b[38;5;132;01m}\u001b[39;00m\u001b[38;5;124m\"\u001b[39m)\n\u001b[0;32m     14\u001b[0m \u001b[38;5;66;03m# Step 3: Check and handle null values\u001b[39;00m\n",
      "File \u001b[1;32md:\\Installed\\ana\\envs\\torcs_env\\lib\\site-packages\\pandas\\core\\frame.py:5581\u001b[0m, in \u001b[0;36mDataFrame.drop\u001b[1;34m(self, labels, axis, index, columns, level, inplace, errors)\u001b[0m\n\u001b[0;32m   5433\u001b[0m \u001b[38;5;28;01mdef\u001b[39;00m\u001b[38;5;250m \u001b[39m\u001b[38;5;21mdrop\u001b[39m(\n\u001b[0;32m   5434\u001b[0m     \u001b[38;5;28mself\u001b[39m,\n\u001b[0;32m   5435\u001b[0m     labels: IndexLabel \u001b[38;5;241m|\u001b[39m \u001b[38;5;28;01mNone\u001b[39;00m \u001b[38;5;241m=\u001b[39m \u001b[38;5;28;01mNone\u001b[39;00m,\n\u001b[1;32m   (...)\u001b[0m\n\u001b[0;32m   5442\u001b[0m     errors: IgnoreRaise \u001b[38;5;241m=\u001b[39m \u001b[38;5;124m\"\u001b[39m\u001b[38;5;124mraise\u001b[39m\u001b[38;5;124m\"\u001b[39m,\n\u001b[0;32m   5443\u001b[0m ) \u001b[38;5;241m-\u001b[39m\u001b[38;5;241m>\u001b[39m DataFrame \u001b[38;5;241m|\u001b[39m \u001b[38;5;28;01mNone\u001b[39;00m:\n\u001b[0;32m   5444\u001b[0m \u001b[38;5;250m    \u001b[39m\u001b[38;5;124;03m\"\"\"\u001b[39;00m\n\u001b[0;32m   5445\u001b[0m \u001b[38;5;124;03m    Drop specified labels from rows or columns.\u001b[39;00m\n\u001b[0;32m   5446\u001b[0m \n\u001b[1;32m   (...)\u001b[0m\n\u001b[0;32m   5579\u001b[0m \u001b[38;5;124;03m            weight  1.0     0.8\u001b[39;00m\n\u001b[0;32m   5580\u001b[0m \u001b[38;5;124;03m    \"\"\"\u001b[39;00m\n\u001b[1;32m-> 5581\u001b[0m     \u001b[38;5;28;01mreturn\u001b[39;00m \u001b[38;5;28;43msuper\u001b[39;49m\u001b[43m(\u001b[49m\u001b[43m)\u001b[49m\u001b[38;5;241;43m.\u001b[39;49m\u001b[43mdrop\u001b[49m\u001b[43m(\u001b[49m\n\u001b[0;32m   5582\u001b[0m \u001b[43m        \u001b[49m\u001b[43mlabels\u001b[49m\u001b[38;5;241;43m=\u001b[39;49m\u001b[43mlabels\u001b[49m\u001b[43m,\u001b[49m\n\u001b[0;32m   5583\u001b[0m \u001b[43m        \u001b[49m\u001b[43maxis\u001b[49m\u001b[38;5;241;43m=\u001b[39;49m\u001b[43maxis\u001b[49m\u001b[43m,\u001b[49m\n\u001b[0;32m   5584\u001b[0m \u001b[43m        \u001b[49m\u001b[43mindex\u001b[49m\u001b[38;5;241;43m=\u001b[39;49m\u001b[43mindex\u001b[49m\u001b[43m,\u001b[49m\n\u001b[0;32m   5585\u001b[0m \u001b[43m        \u001b[49m\u001b[43mcolumns\u001b[49m\u001b[38;5;241;43m=\u001b[39;49m\u001b[43mcolumns\u001b[49m\u001b[43m,\u001b[49m\n\u001b[0;32m   5586\u001b[0m \u001b[43m        \u001b[49m\u001b[43mlevel\u001b[49m\u001b[38;5;241;43m=\u001b[39;49m\u001b[43mlevel\u001b[49m\u001b[43m,\u001b[49m\n\u001b[0;32m   5587\u001b[0m \u001b[43m        \u001b[49m\u001b[43minplace\u001b[49m\u001b[38;5;241;43m=\u001b[39;49m\u001b[43minplace\u001b[49m\u001b[43m,\u001b[49m\n\u001b[0;32m   5588\u001b[0m \u001b[43m        \u001b[49m\u001b[43merrors\u001b[49m\u001b[38;5;241;43m=\u001b[39;49m\u001b[43merrors\u001b[49m\u001b[43m,\u001b[49m\n\u001b[0;32m   5589\u001b[0m \u001b[43m    \u001b[49m\u001b[43m)\u001b[49m\n",
      "File \u001b[1;32md:\\Installed\\ana\\envs\\torcs_env\\lib\\site-packages\\pandas\\core\\generic.py:4788\u001b[0m, in \u001b[0;36mNDFrame.drop\u001b[1;34m(self, labels, axis, index, columns, level, inplace, errors)\u001b[0m\n\u001b[0;32m   4786\u001b[0m \u001b[38;5;28;01mfor\u001b[39;00m axis, labels \u001b[38;5;129;01min\u001b[39;00m axes\u001b[38;5;241m.\u001b[39mitems():\n\u001b[0;32m   4787\u001b[0m     \u001b[38;5;28;01mif\u001b[39;00m labels \u001b[38;5;129;01mis\u001b[39;00m \u001b[38;5;129;01mnot\u001b[39;00m \u001b[38;5;28;01mNone\u001b[39;00m:\n\u001b[1;32m-> 4788\u001b[0m         obj \u001b[38;5;241m=\u001b[39m \u001b[43mobj\u001b[49m\u001b[38;5;241;43m.\u001b[39;49m\u001b[43m_drop_axis\u001b[49m\u001b[43m(\u001b[49m\u001b[43mlabels\u001b[49m\u001b[43m,\u001b[49m\u001b[43m \u001b[49m\u001b[43maxis\u001b[49m\u001b[43m,\u001b[49m\u001b[43m \u001b[49m\u001b[43mlevel\u001b[49m\u001b[38;5;241;43m=\u001b[39;49m\u001b[43mlevel\u001b[49m\u001b[43m,\u001b[49m\u001b[43m \u001b[49m\u001b[43merrors\u001b[49m\u001b[38;5;241;43m=\u001b[39;49m\u001b[43merrors\u001b[49m\u001b[43m)\u001b[49m\n\u001b[0;32m   4790\u001b[0m \u001b[38;5;28;01mif\u001b[39;00m inplace:\n\u001b[0;32m   4791\u001b[0m     \u001b[38;5;28mself\u001b[39m\u001b[38;5;241m.\u001b[39m_update_inplace(obj)\n",
      "File \u001b[1;32md:\\Installed\\ana\\envs\\torcs_env\\lib\\site-packages\\pandas\\core\\generic.py:4830\u001b[0m, in \u001b[0;36mNDFrame._drop_axis\u001b[1;34m(self, labels, axis, level, errors, only_slice)\u001b[0m\n\u001b[0;32m   4828\u001b[0m         new_axis \u001b[38;5;241m=\u001b[39m axis\u001b[38;5;241m.\u001b[39mdrop(labels, level\u001b[38;5;241m=\u001b[39mlevel, errors\u001b[38;5;241m=\u001b[39merrors)\n\u001b[0;32m   4829\u001b[0m     \u001b[38;5;28;01melse\u001b[39;00m:\n\u001b[1;32m-> 4830\u001b[0m         new_axis \u001b[38;5;241m=\u001b[39m \u001b[43maxis\u001b[49m\u001b[38;5;241;43m.\u001b[39;49m\u001b[43mdrop\u001b[49m\u001b[43m(\u001b[49m\u001b[43mlabels\u001b[49m\u001b[43m,\u001b[49m\u001b[43m \u001b[49m\u001b[43merrors\u001b[49m\u001b[38;5;241;43m=\u001b[39;49m\u001b[43merrors\u001b[49m\u001b[43m)\u001b[49m\n\u001b[0;32m   4831\u001b[0m     indexer \u001b[38;5;241m=\u001b[39m axis\u001b[38;5;241m.\u001b[39mget_indexer(new_axis)\n\u001b[0;32m   4833\u001b[0m \u001b[38;5;66;03m# Case for non-unique axis\u001b[39;00m\n\u001b[0;32m   4834\u001b[0m \u001b[38;5;28;01melse\u001b[39;00m:\n",
      "File \u001b[1;32md:\\Installed\\ana\\envs\\torcs_env\\lib\\site-packages\\pandas\\core\\indexes\\base.py:7070\u001b[0m, in \u001b[0;36mIndex.drop\u001b[1;34m(self, labels, errors)\u001b[0m\n\u001b[0;32m   7068\u001b[0m \u001b[38;5;28;01mif\u001b[39;00m mask\u001b[38;5;241m.\u001b[39many():\n\u001b[0;32m   7069\u001b[0m     \u001b[38;5;28;01mif\u001b[39;00m errors \u001b[38;5;241m!=\u001b[39m \u001b[38;5;124m\"\u001b[39m\u001b[38;5;124mignore\u001b[39m\u001b[38;5;124m\"\u001b[39m:\n\u001b[1;32m-> 7070\u001b[0m         \u001b[38;5;28;01mraise\u001b[39;00m \u001b[38;5;167;01mKeyError\u001b[39;00m(\u001b[38;5;124mf\u001b[39m\u001b[38;5;124m\"\u001b[39m\u001b[38;5;132;01m{\u001b[39;00mlabels[mask]\u001b[38;5;241m.\u001b[39mtolist()\u001b[38;5;132;01m}\u001b[39;00m\u001b[38;5;124m not found in axis\u001b[39m\u001b[38;5;124m\"\u001b[39m)\n\u001b[0;32m   7071\u001b[0m     indexer \u001b[38;5;241m=\u001b[39m indexer[\u001b[38;5;241m~\u001b[39mmask]\n\u001b[0;32m   7072\u001b[0m \u001b[38;5;28;01mreturn\u001b[39;00m \u001b[38;5;28mself\u001b[39m\u001b[38;5;241m.\u001b[39mdelete(indexer)\n",
      "\u001b[1;31mKeyError\u001b[0m: \"['gear_drop'] not found in axis\""
     ]
    }
   ],
   "source": [
    "\n",
    "\n",
    "# # Step 8: Check for outliers (optional, based on stats)\n",
    "# # Example: Clip features to [-3, 3] std deviations\n",
    "# for col in sensor_cols + actuator_cols:\n",
    "#     mean, std = data[col].mean(), data[col].std()\n",
    "#     data_normalized[col] = data_normalized[col].clip(lower=mean-3*std, upper=mean+3*std)\n",
    "\n",
    "# data_normalized.to_csv(\"./data/dirt-2/dirt-2_data.csv\", index=False)\n",
    "\n",
    "# Step 9: Split into train/validation/test\n",
    "\n",
    "\n",
    "\n",
    "# # Normalize features and continuous actuators\n",
    "# features_normalized = (features - features.mean()) / features.std()\n",
    "# labels_normalized = labels.copy()\n",
    "# labels_normalized[actuator_cols] = (labels[actuator_cols] - labels[actuator_cols].mean()) / labels[actuator_cols].std()\n",
    "# # Gear remains unnormalized (if discrete)\n",
    "\n",
    "# # Combine normalized features and labels\n",
    "# data_normalized = pd.concat([features_normalized, labels_normalized], axis=1)\n",
    "\n",
    "# # Step 5: Split into train/validation/test\n",
    "# train_data, temp_data = train_test_split(data_normalized, test_size=0.2, random_state=42)\n",
    "# val_data, test_data = train_test_split(temp_data, test_size=0.5, random_state=42)\n",
    "# print(f\"Train shape: {train_data.shape}, Validation shape: {val_data.shape}, Test shape: {test_data.shape}\")\n",
    "\n",
    "# # Step 6: Save preprocessed data\n",
    "# train_data.to_csv(\"train_data.csv\", index=False)\n",
    "# val_data.to_csv(\"val_data.csv\", index=False)\n",
    "# test_data.to_csv(\"test_data.csv\", index=False)\n",
    "# print(\"Preprocessed data saved.\")"
   ]
  },
  {
   "cell_type": "code",
   "execution_count": null,
   "id": "2c5a6790",
   "metadata": {},
   "outputs": [],
   "source": []
  }
 ],
 "metadata": {
  "kernelspec": {
   "display_name": "torcs_env",
   "language": "python",
   "name": "python3"
  },
  "language_info": {
   "codemirror_mode": {
    "name": "ipython",
    "version": 3
   },
   "file_extension": ".py",
   "mimetype": "text/x-python",
   "name": "python",
   "nbconvert_exporter": "python",
   "pygments_lexer": "ipython3",
   "version": "3.9.21"
  }
 },
 "nbformat": 4,
 "nbformat_minor": 5
}
